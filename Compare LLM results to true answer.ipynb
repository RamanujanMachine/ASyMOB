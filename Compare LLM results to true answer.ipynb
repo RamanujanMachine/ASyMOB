{
 "cells": [
  {
   "cell_type": "code",
   "execution_count": 1,
   "id": "c133e102-3779-4e06-ad10-247ef5bb52aa",
   "metadata": {},
   "outputs": [],
   "source": [
    "import pandas as pd\n",
    "import sympy as sp\n",
    "import math_parsers\n",
    "from sp_vars import *\n",
    "from survey_llm_answers import extract_latex_answer"
   ]
  },
  {
   "cell_type": "markdown",
   "id": "9cd8c4e8-b69c-4f0d-8a13-8dc70f326ebb",
   "metadata": {},
   "source": [
    "# Load and parse results"
   ]
  },
  {
   "cell_type": "code",
   "execution_count": 2,
   "id": "b04277ad-4b09-49b4-b2f8-c96bbdcf7a10",
   "metadata": {
    "scrolled": true
   },
   "outputs": [
    {
     "data": {
      "text/html": [
       "<div>\n",
       "<style scoped>\n",
       "    .dataframe tbody tr th:only-of-type {\n",
       "        vertical-align: middle;\n",
       "    }\n",
       "\n",
       "    .dataframe tbody tr th {\n",
       "        vertical-align: top;\n",
       "    }\n",
       "\n",
       "    .dataframe thead th {\n",
       "        text-align: right;\n",
       "    }\n",
       "</style>\n",
       "<table border=\"1\" class=\"dataframe\">\n",
       "  <thead>\n",
       "    <tr style=\"text-align: right;\">\n",
       "      <th></th>\n",
       "      <th>full_answer</th>\n",
       "      <th>final_answer_latex</th>\n",
       "      <th>sp_deter</th>\n",
       "      <th>sp_llm</th>\n",
       "      <th>question_id</th>\n",
       "      <th>model</th>\n",
       "      <th>true_answer</th>\n",
       "      <th>question_text</th>\n",
       "      <th>code_execution</th>\n",
       "    </tr>\n",
       "  </thead>\n",
       "  <tbody>\n",
       "    <tr>\n",
       "      <th>0</th>\n",
       "      <td>Okay, I will compute the first 5 nonzero terms...</td>\n",
       "      <td>1 + x + \\frac{x^2}{2} - \\frac{x^4}{8} - \\frac...</td>\n",
       "      <td>-x**5/15 - x**4/8 + x**2/2 + x + 1</td>\n",
       "      <td>NaN</td>\n",
       "      <td>1</td>\n",
       "      <td>gemini/gemini-2.0-flash</td>\n",
       "      <td>-x**5/15 - x**4/8 + x**2/2 + x + 1</td>\n",
       "      <td>Compute the first 5 nonzero terms (not necessa...</td>\n",
       "      <td>True</td>\n",
       "    </tr>\n",
       "    <tr>\n",
       "      <th>1</th>\n",
       "      <td>Okay, I'll compute the first 5 nonzero terms o...</td>\n",
       "      <td>1 + x + \\frac{x^2}{2} - \\frac{x^4}{8} - \\frac{...</td>\n",
       "      <td>-x**5/15 - x**4/8 + x**2/2 + x + 1</td>\n",
       "      <td>NaN</td>\n",
       "      <td>1</td>\n",
       "      <td>gemini/gemini-2.0-flash</td>\n",
       "      <td>-x**5/15 - x**4/8 + x**2/2 + x + 1</td>\n",
       "      <td>Compute the first 5 nonzero terms (not necessa...</td>\n",
       "      <td>False</td>\n",
       "    </tr>\n",
       "    <tr>\n",
       "      <th>2</th>\n",
       "      <td>```python\\nimport sympy as sp\\n\\nx = sp.Symbol...</td>\n",
       "      <td>1 + x + \\frac{x^2}{2} + \\frac{-x^4}{8} + \\frac...</td>\n",
       "      <td>-x**5/15 - x**4/8 + x**2/2 + x + 1</td>\n",
       "      <td>NaN</td>\n",
       "      <td>1</td>\n",
       "      <td>gemini/gemini-2.0-flash-lite</td>\n",
       "      <td>-x**5/15 - x**4/8 + x**2/2 + x + 1</td>\n",
       "      <td>Compute the first 5 nonzero terms (not necessa...</td>\n",
       "      <td>True</td>\n",
       "    </tr>\n",
       "    <tr>\n",
       "      <th>3</th>\n",
       "      <td>Let $f(x) = e^{\\sin(x)}$. We want to find the ...</td>\n",
       "      <td>1 + x + \\frac{x^2}{2} - \\frac{x^4}{8} + \\frac{...</td>\n",
       "      <td>x**5/15 - x**4/8 + x**2/2 + x + 1</td>\n",
       "      <td>NaN</td>\n",
       "      <td>1</td>\n",
       "      <td>gemini/gemini-2.0-flash-lite</td>\n",
       "      <td>-x**5/15 - x**4/8 + x**2/2 + x + 1</td>\n",
       "      <td>Compute the first 5 nonzero terms (not necessa...</td>\n",
       "      <td>False</td>\n",
       "    </tr>\n",
       "    <tr>\n",
       "      <th>4</th>\n",
       "      <td>code=\"import sympy\\nfrom sympy import symbols,...</td>\n",
       "      <td>1, x, \\frac{x^2}{2}, -\\frac{x^4}{8}, -\\frac{x^...</td>\n",
       "      <td>1</td>\n",
       "      <td>NaN</td>\n",
       "      <td>1</td>\n",
       "      <td>gemini/gemini-2.5-flash-preview-04-17</td>\n",
       "      <td>-x**5/15 - x**4/8 + x**2/2 + x + 1</td>\n",
       "      <td>Compute the first 5 nonzero terms (not necessa...</td>\n",
       "      <td>True</td>\n",
       "    </tr>\n",
       "    <tr>\n",
       "      <th>...</th>\n",
       "      <td>...</td>\n",
       "      <td>...</td>\n",
       "      <td>...</td>\n",
       "      <td>...</td>\n",
       "      <td>...</td>\n",
       "      <td>...</td>\n",
       "      <td>...</td>\n",
       "      <td>...</td>\n",
       "      <td>...</td>\n",
       "    </tr>\n",
       "    <tr>\n",
       "      <th>215</th>\n",
       "      <td>The integral to evaluate is $\\int A + B \\cdot ...</td>\n",
       "      <td>x \\left(A + \\frac{3B}{256}\\right) - \\frac{B}{2...</td>\n",
       "      <td>B*sin(2*F*x)**5/(320*F) - B*sin(4*F*x)/(256*F)...</td>\n",
       "      <td>NaN</td>\n",
       "      <td>22</td>\n",
       "      <td>gemini/gemini-2.5-flash-preview-04-17</td>\n",
       "      <td>A*x + 3*B*x/256 + B*sin(2*F*x)/(512*F) - B*sin...</td>\n",
       "      <td>\\int A + B \\cdot \\sin(F \\cdot x)^4 \\cdot \\cos(...</td>\n",
       "      <td>False</td>\n",
       "    </tr>\n",
       "    <tr>\n",
       "      <th>216</th>\n",
       "      <td>My thought process to solve the integral $\\int...</td>\n",
       "      <td>A x + \\frac{B \\left(\\frac{3 F x}{256} + \\frac{...</td>\n",
       "      <td>A*x + B*(3*F*x/256 + sin(F*x)*cos(F*x)**9/10 -...</td>\n",
       "      <td>NaN</td>\n",
       "      <td>22</td>\n",
       "      <td>gemini/gemini-2.5-pro-preview-03-25</td>\n",
       "      <td>A*x + 3*B*x/256 + B*sin(2*F*x)/(512*F) - B*sin...</td>\n",
       "      <td>\\int A + B \\cdot \\sin(F \\cdot x)^4 \\cdot \\cos(...</td>\n",
       "      <td>True</td>\n",
       "    </tr>\n",
       "    <tr>\n",
       "      <th>217</th>\n",
       "      <td>We want to compute the indefinite integral $I ...</td>\n",
       "      <td>\\left(A + \\frac{3B}{256}\\right) x - \\frac{B}{2...</td>\n",
       "      <td>B*sin(2*F*x)**5/(320*F) - B*sin(4*F*x)/(256*F)...</td>\n",
       "      <td>NaN</td>\n",
       "      <td>22</td>\n",
       "      <td>gemini/gemini-2.5-pro-preview-03-25</td>\n",
       "      <td>A*x + 3*B*x/256 + B*sin(2*F*x)/(512*F) - B*sin...</td>\n",
       "      <td>\\int A + B \\cdot \\sin(F \\cdot x)^4 \\cdot \\cos(...</td>\n",
       "      <td>False</td>\n",
       "    </tr>\n",
       "    <tr>\n",
       "      <th>218</th>\n",
       "      <td>```python\\nfrom sympy import *\\n\\nx = symbols(...</td>\n",
       "      <td>\\int \\left(A + B \\sin^{4}{\\left(F x \\right)} \\...</td>\n",
       "      <td>NaN</td>\n",
       "      <td>NaN</td>\n",
       "      <td>22</td>\n",
       "      <td>gemini/gemma-3-27b-it</td>\n",
       "      <td>A*x + 3*B*x/256 + B*sin(2*F*x)/(512*F) - B*sin...</td>\n",
       "      <td>\\int A + B \\cdot \\sin(F \\cdot x)^4 \\cdot \\cos(...</td>\n",
       "      <td>True</td>\n",
       "    </tr>\n",
       "    <tr>\n",
       "      <th>219</th>\n",
       "      <td>Let's break down this integral step by step. W...</td>\n",
       "      <td>Ax + \\frac{B}{F} \\int \\sin^4(Fx) \\cos^6(Fx) dx...</td>\n",
       "      <td>A*x + B*Integral(sin(F*x)**4*cos(F*x)**6, x)/F...</td>\n",
       "      <td>NaN</td>\n",
       "      <td>22</td>\n",
       "      <td>gemini/gemma-3-27b-it</td>\n",
       "      <td>A*x + 3*B*x/256 + B*sin(2*F*x)/(512*F) - B*sin...</td>\n",
       "      <td>\\int A + B \\cdot \\sin(F \\cdot x)^4 \\cdot \\cos(...</td>\n",
       "      <td>False</td>\n",
       "    </tr>\n",
       "  </tbody>\n",
       "</table>\n",
       "<p>220 rows × 9 columns</p>\n",
       "</div>"
      ],
      "text/plain": [
       "                                           full_answer  \\\n",
       "0    Okay, I will compute the first 5 nonzero terms...   \n",
       "1    Okay, I'll compute the first 5 nonzero terms o...   \n",
       "2    ```python\\nimport sympy as sp\\n\\nx = sp.Symbol...   \n",
       "3    Let $f(x) = e^{\\sin(x)}$. We want to find the ...   \n",
       "4    code=\"import sympy\\nfrom sympy import symbols,...   \n",
       "..                                                 ...   \n",
       "215  The integral to evaluate is $\\int A + B \\cdot ...   \n",
       "216  My thought process to solve the integral $\\int...   \n",
       "217  We want to compute the indefinite integral $I ...   \n",
       "218  ```python\\nfrom sympy import *\\n\\nx = symbols(...   \n",
       "219  Let's break down this integral step by step. W...   \n",
       "\n",
       "                                    final_answer_latex  \\\n",
       "0     1 + x + \\frac{x^2}{2} - \\frac{x^4}{8} - \\frac...   \n",
       "1    1 + x + \\frac{x^2}{2} - \\frac{x^4}{8} - \\frac{...   \n",
       "2    1 + x + \\frac{x^2}{2} + \\frac{-x^4}{8} + \\frac...   \n",
       "3    1 + x + \\frac{x^2}{2} - \\frac{x^4}{8} + \\frac{...   \n",
       "4    1, x, \\frac{x^2}{2}, -\\frac{x^4}{8}, -\\frac{x^...   \n",
       "..                                                 ...   \n",
       "215  x \\left(A + \\frac{3B}{256}\\right) - \\frac{B}{2...   \n",
       "216  A x + \\frac{B \\left(\\frac{3 F x}{256} + \\frac{...   \n",
       "217  \\left(A + \\frac{3B}{256}\\right) x - \\frac{B}{2...   \n",
       "218  \\int \\left(A + B \\sin^{4}{\\left(F x \\right)} \\...   \n",
       "219  Ax + \\frac{B}{F} \\int \\sin^4(Fx) \\cos^6(Fx) dx...   \n",
       "\n",
       "                                              sp_deter  sp_llm  question_id  \\\n",
       "0                   -x**5/15 - x**4/8 + x**2/2 + x + 1     NaN            1   \n",
       "1                   -x**5/15 - x**4/8 + x**2/2 + x + 1     NaN            1   \n",
       "2                   -x**5/15 - x**4/8 + x**2/2 + x + 1     NaN            1   \n",
       "3                    x**5/15 - x**4/8 + x**2/2 + x + 1     NaN            1   \n",
       "4                                                    1     NaN            1   \n",
       "..                                                 ...     ...          ...   \n",
       "215  B*sin(2*F*x)**5/(320*F) - B*sin(4*F*x)/(256*F)...     NaN           22   \n",
       "216  A*x + B*(3*F*x/256 + sin(F*x)*cos(F*x)**9/10 -...     NaN           22   \n",
       "217  B*sin(2*F*x)**5/(320*F) - B*sin(4*F*x)/(256*F)...     NaN           22   \n",
       "218                                                NaN     NaN           22   \n",
       "219  A*x + B*Integral(sin(F*x)**4*cos(F*x)**6, x)/F...     NaN           22   \n",
       "\n",
       "                                     model  \\\n",
       "0                  gemini/gemini-2.0-flash   \n",
       "1                  gemini/gemini-2.0-flash   \n",
       "2             gemini/gemini-2.0-flash-lite   \n",
       "3             gemini/gemini-2.0-flash-lite   \n",
       "4    gemini/gemini-2.5-flash-preview-04-17   \n",
       "..                                     ...   \n",
       "215  gemini/gemini-2.5-flash-preview-04-17   \n",
       "216    gemini/gemini-2.5-pro-preview-03-25   \n",
       "217    gemini/gemini-2.5-pro-preview-03-25   \n",
       "218                  gemini/gemma-3-27b-it   \n",
       "219                  gemini/gemma-3-27b-it   \n",
       "\n",
       "                                           true_answer  \\\n",
       "0                   -x**5/15 - x**4/8 + x**2/2 + x + 1   \n",
       "1                   -x**5/15 - x**4/8 + x**2/2 + x + 1   \n",
       "2                   -x**5/15 - x**4/8 + x**2/2 + x + 1   \n",
       "3                   -x**5/15 - x**4/8 + x**2/2 + x + 1   \n",
       "4                   -x**5/15 - x**4/8 + x**2/2 + x + 1   \n",
       "..                                                 ...   \n",
       "215  A*x + 3*B*x/256 + B*sin(2*F*x)/(512*F) - B*sin...   \n",
       "216  A*x + 3*B*x/256 + B*sin(2*F*x)/(512*F) - B*sin...   \n",
       "217  A*x + 3*B*x/256 + B*sin(2*F*x)/(512*F) - B*sin...   \n",
       "218  A*x + 3*B*x/256 + B*sin(2*F*x)/(512*F) - B*sin...   \n",
       "219  A*x + 3*B*x/256 + B*sin(2*F*x)/(512*F) - B*sin...   \n",
       "\n",
       "                                         question_text  code_execution  \n",
       "0    Compute the first 5 nonzero terms (not necessa...            True  \n",
       "1    Compute the first 5 nonzero terms (not necessa...           False  \n",
       "2    Compute the first 5 nonzero terms (not necessa...            True  \n",
       "3    Compute the first 5 nonzero terms (not necessa...           False  \n",
       "4    Compute the first 5 nonzero terms (not necessa...            True  \n",
       "..                                                 ...             ...  \n",
       "215  \\int A + B \\cdot \\sin(F \\cdot x)^4 \\cdot \\cos(...           False  \n",
       "216  \\int A + B \\cdot \\sin(F \\cdot x)^4 \\cdot \\cos(...            True  \n",
       "217  \\int A + B \\cdot \\sin(F \\cdot x)^4 \\cdot \\cos(...           False  \n",
       "218  \\int A + B \\cdot \\sin(F \\cdot x)^4 \\cdot \\cos(...            True  \n",
       "219  \\int A + B \\cdot \\sin(F \\cdot x)^4 \\cdot \\cos(...           False  \n",
       "\n",
       "[220 rows x 9 columns]"
      ]
     },
     "execution_count": 2,
     "metadata": {},
     "output_type": "execute_result"
    }
   ],
   "source": [
    "df = pd.read_excel('results_mp.xlsx')\n",
    "df.true_answer = df.true_answer.map(math_parsers.parse_sympy_str)\n",
    "df"
   ]
  },
  {
   "cell_type": "code",
   "execution_count": 3,
   "id": "3b86ce37-8a00-4ca6-bbbb-f3c938d31fe7",
   "metadata": {},
   "outputs": [
    {
     "name": "stdout",
     "output_type": "stream",
     "text": [
      "Total number of entries: 220\n",
      "Successfully extracted latex: 214. Drop of 6\n",
      "Successfully extracted sympy: 207. Drop of 7\n"
     ]
    }
   ],
   "source": [
    "n_entries = len(df)\n",
    "print(f'Total number of entries: {n_entries}')\n",
    "\n",
    "succ_latex = df[~df.final_answer_latex.isna()]\n",
    "n_succ_latex = len(succ_latex)\n",
    "print(f'Successfully extracted latex: {n_succ_latex}. Drop of {n_entries-n_succ_latex}')\n",
    "\n",
    "succ_sp = succ_latex[~succ_latex.sp_deter.isna()]\n",
    "n_succ_sp = len(succ_sp)\n",
    "print(f'Successfully extracted sympy: {n_succ_sp}. Drop of {n_succ_latex-n_succ_sp}')"
   ]
  },
  {
   "cell_type": "code",
   "execution_count": 4,
   "id": "0f5cdc24-ef62-4d2b-8024-17b9686cb8e3",
   "metadata": {},
   "outputs": [],
   "source": [
    "df = succ_sp"
   ]
  },
  {
   "cell_type": "code",
   "execution_count": 5,
   "id": "f38a9ac6-c5c6-4fab-a79d-90d65b07f145",
   "metadata": {},
   "outputs": [
    {
     "name": "stderr",
     "output_type": "stream",
     "text": [
      "C:\\Users\\admin2\\AppData\\Local\\Temp\\ipykernel_6208\\599569320.py:2: SettingWithCopyWarning: \n",
      "A value is trying to be set on a copy of a slice from a DataFrame.\n",
      "Try using .loc[row_indexer,col_indexer] = value instead\n",
      "\n",
      "See the caveats in the documentation: https://pandas.pydata.org/pandas-docs/stable/user_guide/indexing.html#returning-a-view-versus-a-copy\n",
      "  df.sp_deter = df.sp_deter.map(sp.parse_expr)\n"
     ]
    }
   ],
   "source": [
    "# Already did all fixes required before. Just do str to sp\n",
    "df.sp_deter = df.sp_deter.map(sp.parse_expr)"
   ]
  },
  {
   "cell_type": "markdown",
   "id": "a2983d5a-8469-4b92-840f-216f980cbef7",
   "metadata": {
    "jp-MarkdownHeadingCollapsed": true
   },
   "source": [
    "## Compare latex to sympy methods"
   ]
  },
  {
   "cell_type": "code",
   "execution_count": null,
   "id": "db1cbef3-d44c-45dc-8121-7f85fec81055",
   "metadata": {},
   "outputs": [],
   "source": [
    "df['diff_llm_deter'] = (df.sp_deter - df.sp_llm).map(sp.simplify)"
   ]
  },
  {
   "cell_type": "code",
   "execution_count": null,
   "id": "0d646991-8ad2-4455-baa2-c9106dfab1b6",
   "metadata": {},
   "outputs": [],
   "source": [
    "df[df.diff_llm_deter != 0][['diff_llm_deter', 'sp_deter', 'sp_llm']]"
   ]
  },
  {
   "cell_type": "markdown",
   "id": "cd27620b-a288-4840-9655-a3dc7c4a0747",
   "metadata": {},
   "source": [
    "Equal, but `sp.simplify` doesn't manage to see that:"
   ]
  },
  {
   "cell_type": "code",
   "execution_count": null,
   "id": "0282e449-771b-4dd9-b109-fd8ee1f48bc8",
   "metadata": {},
   "outputs": [],
   "source": [
    "df.iloc[25].diff_llm_deter"
   ]
  },
  {
   "cell_type": "code",
   "execution_count": null,
   "id": "ad9626ed-a1e4-4a76-acdd-1662388da72d",
   "metadata": {},
   "outputs": [],
   "source": [
    "df.iloc[37].diff_llm_deter"
   ]
  },
  {
   "cell_type": "markdown",
   "id": "fb0c3195-5700-45bd-acbf-ba76560ebe47",
   "metadata": {},
   "source": [
    "sympy parsing latex syntax as constants (`Biggl` and others are latex operators):"
   ]
  },
  {
   "cell_type": "code",
   "execution_count": null,
   "id": "54f1eff1-5dcb-442f-9842-6e44c63fafe3",
   "metadata": {},
   "outputs": [],
   "source": [
    "df.iloc[13].sp_deter"
   ]
  },
  {
   "cell_type": "markdown",
   "id": "7019cba8-f03f-4051-8d31-b3715f5f2347",
   "metadata": {},
   "source": [
    "* 1 cases are equal equal, with extra (different) terms that describe additional terms that are not writtin on propose ($O(x^5)$ or $\\dots$)\n",
    "* 2 cases are perfectly equal but sympy couldn't fully simplify them.\n",
    "* 1 case LLM translation failiure\n",
    "* 1 case sp translates latex operators as constants"
   ]
  },
  {
   "cell_type": "markdown",
   "id": "750e261d-8999-45d9-b728-b775caf66618",
   "metadata": {},
   "source": [
    "## Compare LLM answer to true answer"
   ]
  },
  {
   "cell_type": "code",
   "execution_count": 6,
   "id": "993bcc8c-0cfc-4278-8bf8-04472812f72d",
   "metadata": {},
   "outputs": [
    {
     "name": "stderr",
     "output_type": "stream",
     "text": [
      "C:\\Users\\admin2\\AppData\\Local\\Temp\\ipykernel_6208\\1826767942.py:1: SettingWithCopyWarning: \n",
      "A value is trying to be set on a copy of a slice from a DataFrame.\n",
      "Try using .loc[row_indexer,col_indexer] = value instead\n",
      "\n",
      "See the caveats in the documentation: https://pandas.pydata.org/pandas-docs/stable/user_guide/indexing.html#returning-a-view-versus-a-copy\n",
      "  df['llm_to_correct_diff'] = (\n"
     ]
    }
   ],
   "source": [
    "df['llm_to_correct_diff'] = (\n",
    "    df.true_answer.map(lambda x: x.removeO()) - \n",
    "    df.sp_deter.map(lambda x: x.removeO())\n",
    "    ).map(lambda v: v.simplify())"
   ]
  },
  {
   "cell_type": "code",
   "execution_count": 7,
   "id": "24c62593-e218-4de5-88bd-9359432f46a3",
   "metadata": {},
   "outputs": [
    {
     "name": "stderr",
     "output_type": "stream",
     "text": [
      "C:\\Users\\admin2\\AppData\\Local\\Temp\\ipykernel_6208\\684609319.py:1: SettingWithCopyWarning: \n",
      "A value is trying to be set on a copy of a slice from a DataFrame.\n",
      "Try using .loc[row_indexer,col_indexer] = value instead\n",
      "\n",
      "See the caveats in the documentation: https://pandas.pydata.org/pandas-docs/stable/user_guide/indexing.html#returning-a-view-versus-a-copy\n",
      "  df['symb_correct'] = (df.llm_to_correct_diff == 0) | (df.llm_to_correct_diff == C) | (df.llm_to_correct_diff == -C)\n"
     ]
    }
   ],
   "source": [
    "df['symb_correct'] = (df.llm_to_correct_diff == 0) | (df.llm_to_correct_diff == C) | (df.llm_to_correct_diff == -C)"
   ]
  },
  {
   "cell_type": "code",
   "execution_count": 8,
   "id": "31c72c46-21c5-40d0-9e34-4fcbfde164a5",
   "metadata": {},
   "outputs": [
    {
     "data": {
      "text/plain": [
       "113"
      ]
     },
     "execution_count": 8,
     "metadata": {},
     "output_type": "execute_result"
    }
   ],
   "source": [
    "len(df[df.symb_correct])"
   ]
  },
  {
   "cell_type": "code",
   "execution_count": 9,
   "id": "bf7e9637-b8a1-447b-94c1-5bfa0dd6f054",
   "metadata": {},
   "outputs": [
    {
     "data": {
      "text/plain": [
       "94"
      ]
     },
     "execution_count": 9,
     "metadata": {},
     "output_type": "execute_result"
    }
   ],
   "source": [
    "len(df[~df.symb_correct])"
   ]
  },
  {
   "cell_type": "code",
   "execution_count": 10,
   "id": "fc6c0a10-0fdb-41ad-93a3-1fa3d040a504",
   "metadata": {},
   "outputs": [],
   "source": [
    "import numpy as np\n",
    "NORMAL_DIST_GENERATOR = lambda: 100 * np.random.randn()"
   ]
  },
  {
   "cell_type": "code",
   "execution_count": 11,
   "id": "5af1ea46-f273-4234-8dcd-8a482dcb1d21",
   "metadata": {},
   "outputs": [],
   "source": [
    "UPPER_LIMIT_FINITE = 10\n",
    "\n",
    "def replace_infinite_sums(expr, new_upper=UPPER_LIMIT_FINITE):\n",
    "    \"\"\"\n",
    "    Recursively replaces all infinite sums (Sum objects with upper limit of oo)\n",
    "    with versions using `new_upper` as the upper limit.\n",
    "    \"\"\"\n",
    "    replacements = {}\n",
    "\n",
    "    for s in expr.atoms(sp.Sum):\n",
    "        new_limits = []\n",
    "        changed = False\n",
    "        for lim in s.limits:\n",
    "            var, lower, upper = lim\n",
    "            if upper == sp.oo:\n",
    "                new_limits.append((var, lower, new_upper))\n",
    "                changed = True\n",
    "            else:\n",
    "                new_limits.append(lim)\n",
    "        if changed:\n",
    "            replacements[s] = sp.Sum(s.function, *new_limits)\n",
    "\n",
    "    return expr.xreplace(replacements)\n",
    "\n",
    "\n",
    "def check_answer_numeric(expr_a, expr_b, n_attempts=2, allowed_diff=1e-5, strict=True, debug=False):\n",
    "    free_symbols = expr_a.free_symbols.union(expr_b.free_symbols)\n",
    "\n",
    "    expr_a = expr_a.removeO()\n",
    "    if expr_a.has(sp.Sum):\n",
    "        expr_a = replace_infinite_sums(expr_a)\n",
    "\n",
    "    expr_b = expr_b.removeO()\n",
    "    if expr_b.has(sp.Sum):\n",
    "        expr_b = replace_infinite_sums(expr_b)\n",
    "    \n",
    "    if debug:\n",
    "        print('expr_a: ', expr_a)\n",
    "        print('expr_b: ', expr_b)\n",
    "\n",
    "    diffs = []\n",
    "    for _ in range(n_attempts):\n",
    "        subs = {}\n",
    "        for symb in free_symbols:\n",
    "            subs[symb] = NORMAL_DIST_GENERATOR()\n",
    "\n",
    "        numer_val_a = expr_a.subs(subs).doit()\n",
    "        numer_val_b = expr_b.subs(subs).doit()\n",
    "        diffs.append(abs(\n",
    "            (numer_val_a - numer_val_b) / \n",
    "            (numer_val_a + numer_val_b)\n",
    "        ))\n",
    "\n",
    "        if debug:\n",
    "            print('subs: ', subs)\n",
    "            print('diff: ', diffs[-1])\n",
    "        \n",
    "    try:\n",
    "        if strict:\n",
    "            return all([diff < allowed_diff for diff in diffs])\n",
    "        # Currently will fail\n",
    "        return pd.NA\n",
    "        return (max(diffs) - min(diffs)) < allowed_diff\n",
    "    except Exception as e:\n",
    "        print(e)\n",
    "        print(expr_a, expr_b)\n",
    "        return pd.NA"
   ]
  },
  {
   "cell_type": "code",
   "execution_count": 12,
   "id": "666551c9-610f-4cd1-ba6d-ad9a14f96349",
   "metadata": {},
   "outputs": [
    {
     "name": "stdout",
     "output_type": "stream",
     "text": [
      "Invalid NaN comparison\n",
      "1/(150*A) -oo\n",
      "Invalid NaN comparison\n",
      "A*e**(F/4) oo\n",
      "Invalid NaN comparison\n",
      "(3*B/2)**F zoo\n",
      "Invalid NaN comparison\n",
      "e**(4/9) oo\n",
      "Invalid NaN comparison\n",
      "F*e**(A**2*D/(9*B)) oo\n",
      "Invalid NaN comparison\n",
      "e**(-1/24) oo\n"
     ]
    },
    {
     "name": "stderr",
     "output_type": "stream",
     "text": [
      "C:\\Users\\admin2\\AppData\\Local\\Temp\\ipykernel_6208\\3229572864.py:1: SettingWithCopyWarning: \n",
      "A value is trying to be set on a copy of a slice from a DataFrame.\n",
      "Try using .loc[row_indexer,col_indexer] = value instead\n",
      "\n",
      "See the caveats in the documentation: https://pandas.pydata.org/pandas-docs/stable/user_guide/indexing.html#returning-a-view-versus-a-copy\n",
      "  df['numer_correct'] = df.apply(lambda row: check_answer_numeric(row.true_answer, row.sp_deter), axis=1)\n"
     ]
    }
   ],
   "source": [
    "df['numer_correct'] = df.apply(lambda row: check_answer_numeric(row.true_answer, row.sp_deter), axis=1)"
   ]
  },
  {
   "cell_type": "code",
   "execution_count": 26,
   "id": "97a119e7-f028-4cd5-8d83-b7ec902d0e9d",
   "metadata": {},
   "outputs": [
    {
     "data": {
      "text/plain": [
       "0       True\n",
       "1       True\n",
       "2       True\n",
       "3      False\n",
       "4      False\n",
       "       ...  \n",
       "212    False\n",
       "215    False\n",
       "216    False\n",
       "217    False\n",
       "219    False\n",
       "Name: numer_correct, Length: 207, dtype: boolean"
      ]
     },
     "execution_count": 26,
     "metadata": {},
     "output_type": "execute_result"
    }
   ],
   "source": [
    "df.numer_correct.astype(\"boolean\")"
   ]
  },
  {
   "cell_type": "code",
   "execution_count": 32,
   "id": "2b3071da-b342-4ef6-b2b8-4c0784cf6a99",
   "metadata": {},
   "outputs": [],
   "source": [
    "invalid_numer_comp = df[df.numer_correct.isna()]"
   ]
  },
  {
   "cell_type": "code",
   "execution_count": 33,
   "id": "50719dd2-8798-46f8-879a-a05d374c63d9",
   "metadata": {},
   "outputs": [],
   "source": [
    "df = df[~df.numer_correct.isna()]"
   ]
  },
  {
   "cell_type": "code",
   "execution_count": 42,
   "id": "e2f2361a-2341-4e78-aa60-f7adc239d41e",
   "metadata": {},
   "outputs": [
    {
     "name": "stderr",
     "output_type": "stream",
     "text": [
      "C:\\Users\\admin2\\AppData\\Local\\Temp\\ipykernel_6208\\1934864526.py:1: SettingWithCopyWarning: \n",
      "A value is trying to be set on a copy of a slice from a DataFrame.\n",
      "Try using .loc[row_indexer,col_indexer] = value instead\n",
      "\n",
      "See the caveats in the documentation: https://pandas.pydata.org/pandas-docs/stable/user_guide/indexing.html#returning-a-view-versus-a-copy\n",
      "  df.numer_correct = df.numer_correct.astype(\"boolean\")\n"
     ]
    }
   ],
   "source": [
    "df.numer_correct = df.numer_correct.astype(\"boolean\")"
   ]
  },
  {
   "cell_type": "code",
   "execution_count": 43,
   "id": "0909853b-9876-4a61-b87a-027cfc24c4db",
   "metadata": {},
   "outputs": [
    {
     "data": {
      "text/plain": [
       "113"
      ]
     },
     "execution_count": 43,
     "metadata": {},
     "output_type": "execute_result"
    }
   ],
   "source": [
    "len(df[df.symb_correct & df.numer_correct])"
   ]
  },
  {
   "cell_type": "code",
   "execution_count": 44,
   "id": "a86e9633-73d1-4c3b-85ab-1c3928a7c857",
   "metadata": {},
   "outputs": [
    {
     "data": {
      "text/plain": [
       "0"
      ]
     },
     "execution_count": 44,
     "metadata": {},
     "output_type": "execute_result"
    }
   ],
   "source": [
    "len(df[df.symb_correct & ~df.numer_correct])"
   ]
  },
  {
   "cell_type": "code",
   "execution_count": 45,
   "id": "7c77831a-3334-4994-9689-b2f4809b16ec",
   "metadata": {},
   "outputs": [
    {
     "data": {
      "text/plain": [
       "17"
      ]
     },
     "execution_count": 45,
     "metadata": {},
     "output_type": "execute_result"
    }
   ],
   "source": [
    "len(df[~df.symb_correct & df.numer_correct])"
   ]
  },
  {
   "cell_type": "code",
   "execution_count": 46,
   "id": "174ffd56-d4e0-411f-96cf-9b504f7be1f0",
   "metadata": {},
   "outputs": [
    {
     "data": {
      "text/plain": [
       "71"
      ]
     },
     "execution_count": 46,
     "metadata": {},
     "output_type": "execute_result"
    }
   ],
   "source": [
    "len(df[~df.symb_correct & ~df.numer_correct])"
   ]
  },
  {
   "cell_type": "code",
   "execution_count": 47,
   "id": "f2e6a1f8-1fae-4bd9-91b6-8f5a2e6ff95b",
   "metadata": {},
   "outputs": [],
   "source": [
    "df.to_excel('valid_results_with_res_check.xlsx')"
   ]
  }
 ],
 "metadata": {
  "kernelspec": {
   "display_name": "Python 3 (ipykernel)",
   "language": "python",
   "name": "python3"
  },
  "language_info": {
   "codemirror_mode": {
    "name": "ipython",
    "version": 3
   },
   "file_extension": ".py",
   "mimetype": "text/x-python",
   "name": "python",
   "nbconvert_exporter": "python",
   "pygments_lexer": "ipython3",
   "version": "3.12.4"
  }
 },
 "nbformat": 4,
 "nbformat_minor": 5
}
