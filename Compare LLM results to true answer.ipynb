{
 "cells": [
  {
   "cell_type": "code",
   "execution_count": 2,
   "id": "c133e102-3779-4e06-ad10-247ef5bb52aa",
   "metadata": {},
   "outputs": [],
   "source": [
    "import pandas as pd\n",
    "import sympy as sp\n",
    "import math_parsers\n",
    "from sp_vars import *\n",
    "from survey_llm_answers import extract_latex_answer"
   ]
  },
  {
   "cell_type": "markdown",
   "id": "9cd8c4e8-b69c-4f0d-8a13-8dc70f326ebb",
   "metadata": {},
   "source": [
    "# Load and parse results"
   ]
  },
  {
   "cell_type": "code",
   "execution_count": 5,
   "id": "b04277ad-4b09-49b4-b2f8-c96bbdcf7a10",
   "metadata": {},
   "outputs": [
    {
     "name": "stdout",
     "output_type": "stream",
     "text": [
      "Error parsing latex string:\n",
      "\\sum_{k=2}^{\\infty} \\frac{A B F^{k} k(k^{2} - 1}{6} x^{k}\n",
      "I expected one of these: '}'\n",
      "\\sum_{k=2}^{\\infty} \\frac{A B F^{k} k(k^{2} - 1}{6} x^{k}\n",
      "~~~~~~~~~~~~~~~~~~~~~~~~~~~~~~~~~~~~~^\n",
      "Error parsing latex string:\n",
      "\\frac{1}{2\n",
      "missing '}' at '<EOF>'\n",
      "\\frac{1}{2\n",
      "~~~~~~~~~~^\n",
      "Error parsing latex string:\n",
      "\\left|F\\right| e^{-\\frac{A^2}{24B}}\n",
      "I expected something else here\n",
      "\\left|F\\right| e^{-\\frac{A^2}{24B}}\n",
      "~~~~~~~^\n",
      "Error parsing latex string:\n",
      "\\left|F\\right|\n",
      "I expected something else here\n",
      "\\left|F\\right|\n",
      "~~~~~~~^\n",
      "Error parsing latex string:\n",
      " A x + B \\begin{cases} \\frac{\\frac{3 F x}{256} + \\frac{\\sin{\\left(F x \\right)} \\cos^{9}{\\left(F x \\right)}}{10} - \\frac{11 \\sin{\\left(F x \\right)} \\cos^{7}{\\left(F x \\right)}}{80} + \\frac{\\sin{\\left(F x \\right)} \\cos^{5}{\\left(F x \\right)}}{160} + \\frac{\\sin{\\left(F x \\right)} \\cos^{3}{\\left(F x \\right)}}{128} + \\frac{3 \\sin{\\left(F x \\right)} \\cos{\\left(F x \\right)}}{256}}{F} & \\text{for}\\: F \\neq 0 \\\\0 & \\text{otherwise} \\end{cases}\n",
      "I don't understand this\n",
      "A x + B \\begin{cases} \\frac{\\frac{3 F x}{256} + \\frac{\\sin{\\left(F x \\right)} \\cos^{9}{\\left(F x \\right)}}{10} - \\frac{11 \\sin{\\left(F x \\right)} \\cos^{7}{\\left(F x \\right)}}{80} + \\frac{\\sin{\\left(F x \\right)} \\cos^{5}{\\left(F x \\right)}}{160} + \\frac{\\sin{\\left(F x \\right)} \\cos^{3}{\\left(F x \\right)}}{128} + \\frac{3 \\sin{\\left(F x \\right)} \\cos{\\left(F x \\right)}}{256}}{F} & \\text{for}\\: F \\neq 0 \\\\0 & \\text{otherwise} \\end{cases}\n",
      "~~~~~~~~~~~~~~~~~~~~~~~~~~~~~~~~~~~~~~~~~~~~~~~~~~~~~~~~~~~~~~~~~~~~~~~~~~~~~~~~~~~~~~~~~~~~~~~~~~~~~~~~~~~~~~~~~~~~~~~~~~~~~~~~~~~~~~~~~~~~~~~~~~~~~~~~~~~~~~~~~~~~~~~~~~~~~~~~~~~~~~~~~~~~~~~~~~~~~~~~~~~~~~~~~~~~~~~~~~~~~~~~~~~~~~~~~~~~~~~~~~~~~~~~~~~~~~~~~~~~~~~~~~~~~~~~~~~~~~~~~~~~~~~~~~~~~~~~~~~~~~~~~~~~~~~~~~~~~~~~~~~~~~~~~~~~~~~~~~~~~~~~~~~~~~~~~~~~~~~~~~~~~~~~~~~~~~~~~~~^\n",
      "Error parsing latex string:\n",
      "\\text{A x} + \\text{B} \\left(\\begin{cases} \\frac{\\frac{3 F x}{256} + \\frac{\\sin{\\left(F x \\right)} \\cos^{9}{\\left(F x \\right)}}{10} - \\frac{11 \\sin{\\left(F x \\right)} \\cos^{7}{\\left(F x \\right)}}{80} + \\frac{\\sin{\\left(F x \\right)} \\cos^{5}{\\left(F x \\right)}}{160} + \\frac{\\sin{\\left(F x \\right)} \\cos^{3}{\\left(F x \\right)}}{128} + \\frac{3 \\sin{\\left(F x \\right)} \\cos{\\left(F x \\right)}}{256}}{F} & \\text{for}\\: F \\neq 0 \\\\0 & \\text{otherwise} \\end{cases}\\right)\n",
      "I don't understand this\n",
      "\\text{A x} + \\text{B} \\left(\\begin{cases} \\frac{\\frac{3 F x}{256} + \\frac{\\sin{\\left(F x \\right)} \\cos^{9}{\\left(F x \\right)}}{10} - \\frac{11 \\sin{\\left(F x \\right)} \\cos^{7}{\\left(F x \\right)}}{80} + \\frac{\\sin{\\left(F x \\right)} \\cos^{5}{\\left(F x \\right)}}{160} + \\frac{\\sin{\\left(F x \\right)} \\cos^{3}{\\left(F x \\right)}}{128} + \\frac{3 \\sin{\\left(F x \\right)} \\cos{\\left(F x \\right)}}{256}}{F} & \\text{for}\\: F \\neq 0 \\\\0 & \\text{otherwise} \\end{cases}\\right)\n",
      "~~~~~~~~~~~~~~~~~~~~~~~~~~~~~~~~~~~~~~~~~~~~~~~~~~~~~~~~~~~~~~~~~~~~~~~~~~~~~~~~~~~~~~~~~~~~~~~~~~~~~~~~~~~~~~~~~~~~~~~~~~~~~~~~~~~~~~~~~~~~~~~~~~~~~~~~~~~~~~~~~~~~~~~~~~~~~~~~~~~~~~~~~~~~~~~~~~~~~~~~~~~~~~~~~~~~~~~~~~~~~~~~~~~~~~~~~~~~~~~~~~~~~~~~~~~~~~~~~~~~~~~~~~~~~~~~~~~~~~~~~~~~~~~~~~~~~~~~~~~~~~~~~~~~~~~~~~~~~~~~~~~~~~~~~~~~~~~~~~~~~~~~~~~~~~~~~~~~~~~~~~~~~~~~~~~~~~~~~~~~~~~~~~~~~~~~~~~~~~~^\n"
     ]
    },
    {
     "data": {
      "text/html": [
       "<div>\n",
       "<style scoped>\n",
       "    .dataframe tbody tr th:only-of-type {\n",
       "        vertical-align: middle;\n",
       "    }\n",
       "\n",
       "    .dataframe tbody tr th {\n",
       "        vertical-align: top;\n",
       "    }\n",
       "\n",
       "    .dataframe thead th {\n",
       "        text-align: right;\n",
       "    }\n",
       "</style>\n",
       "<table border=\"1\" class=\"dataframe\">\n",
       "  <thead>\n",
       "    <tr style=\"text-align: right;\">\n",
       "      <th></th>\n",
       "      <th>full_answer</th>\n",
       "      <th>final_answer_latex</th>\n",
       "      <th>question_id</th>\n",
       "      <th>model</th>\n",
       "      <th>true_answer</th>\n",
       "      <th>question_text</th>\n",
       "      <th>code_execution</th>\n",
       "      <th>model_answer</th>\n",
       "    </tr>\n",
       "  </thead>\n",
       "  <tbody>\n",
       "    <tr>\n",
       "      <th>0</th>\n",
       "      <td>The final answer is:\\n$$1+x+\\frac{x^2}{2}-\\fra...</td>\n",
       "      <td>1+x+\\frac{x^2}{2}-\\frac{x^4}{8}-\\frac{x^5}{15}</td>\n",
       "      <td>1</td>\n",
       "      <td>openai/o3-mini</td>\n",
       "      <td>-x**5/15 - x**4/8 + x**2/2 + x + 1</td>\n",
       "      <td>Compute the first 5 nonzero terms (not necessa...</td>\n",
       "      <td>True</td>\n",
       "      <td>-x**5/15 - x**4/8 + x**2/2 + x + 1</td>\n",
       "    </tr>\n",
       "    <tr>\n",
       "      <th>1</th>\n",
       "      <td>We start with the function\\n  f(x) = e^(sin(x)...</td>\n",
       "      <td>1+x+\\frac{x^2}{2}-\\frac{x^4}{8}-\\frac{x^5}{15}</td>\n",
       "      <td>1</td>\n",
       "      <td>openai/o3-mini</td>\n",
       "      <td>-x**5/15 - x**4/8 + x**2/2 + x + 1</td>\n",
       "      <td>Compute the first 5 nonzero terms (not necessa...</td>\n",
       "      <td>False</td>\n",
       "      <td>-x**5/15 - x**4/8 + x**2/2 + x + 1</td>\n",
       "    </tr>\n",
       "    <tr>\n",
       "      <th>2</th>\n",
       "      <td>The final answer is:\\n$$1 + x + \\frac{x^2}{2} ...</td>\n",
       "      <td>1 + x + \\frac{x^2}{2} + \\frac{x^3}{3} + \\frac{...</td>\n",
       "      <td>1</td>\n",
       "      <td>openai/gpt-4o</td>\n",
       "      <td>-x**5/15 - x**4/8 + x**2/2 + x + 1</td>\n",
       "      <td>Compute the first 5 nonzero terms (not necessa...</td>\n",
       "      <td>True</td>\n",
       "      <td>x**4/8 + x**3/3 + x**2/2 + x + 1</td>\n",
       "    </tr>\n",
       "    <tr>\n",
       "      <th>3</th>\n",
       "      <td>To find the Maclaurin series expansion of \\( f...</td>\n",
       "      <td>1 + x + \\frac{x^2}{2} - \\frac{x^4}{6} - \\frac{...</td>\n",
       "      <td>1</td>\n",
       "      <td>openai/gpt-4o</td>\n",
       "      <td>-x**5/15 - x**4/8 + x**2/2 + x + 1</td>\n",
       "      <td>Compute the first 5 nonzero terms (not necessa...</td>\n",
       "      <td>False</td>\n",
       "      <td>-x**5/120 - x**4/6 + x**2/2 + x + 1</td>\n",
       "    </tr>\n",
       "    <tr>\n",
       "      <th>4</th>\n",
       "      <td>The final answer is:  \\n$$\\sum_{n=0}^{\\infty} ...</td>\n",
       "      <td>\\sum_{n=0}^{\\infty} \\frac{\\sin^{(n)}(0)}{n!} x^n</td>\n",
       "      <td>1</td>\n",
       "      <td>openai/gpt-4o-mini</td>\n",
       "      <td>-x**5/15 - x**4/8 + x**2/2 + x + 1</td>\n",
       "      <td>Compute the first 5 nonzero terms (not necessa...</td>\n",
       "      <td>True</td>\n",
       "      <td>Sum(0**n*x**n/factorial(n), (n, 0, oo))</td>\n",
       "    </tr>\n",
       "    <tr>\n",
       "      <th>...</th>\n",
       "      <td>...</td>\n",
       "      <td>...</td>\n",
       "      <td>...</td>\n",
       "      <td>...</td>\n",
       "      <td>...</td>\n",
       "      <td>...</td>\n",
       "      <td>...</td>\n",
       "      <td>...</td>\n",
       "    </tr>\n",
       "    <tr>\n",
       "      <th>523</th>\n",
       "      <td>## Step 1: Identify the integral to be solved\\...</td>\n",
       "      <td>Ax + \\frac{B}{128F}(\\frac{3Fx}{2} - \\frac{\\sin...</td>\n",
       "      <td>22</td>\n",
       "      <td>meta-llama/llama-4-maverick-17b-128e-instruct</td>\n",
       "      <td>A*x + 3*B*x/256 + B*sin(2*F*x)/(512*F) - B*sin...</td>\n",
       "      <td>\\int A + B \\cdot \\sin(F \\cdot x)^4 \\cdot \\cos(...</td>\n",
       "      <td>False</td>\n",
       "      <td>A*x + B*(3*F*x/2 + 2*sin(2*F*x)**5/5 - sin(4*F...</td>\n",
       "    </tr>\n",
       "    <tr>\n",
       "      <th>524</th>\n",
       "      <td>## Step 1: Identify the integral to be solved\\...</td>\n",
       "      <td>A x+\\frac{B}{640 F} (10 F x-5 \\sin (2 F x)+\\si...</td>\n",
       "      <td>22</td>\n",
       "      <td>meta-llama/llama-4-scout-17b-16e-instruct</td>\n",
       "      <td>A*x + 3*B*x/256 + B*sin(2*F*x)/(512*F) - B*sin...</td>\n",
       "      <td>\\int A + B \\cdot \\sin(F \\cdot x)^4 \\cdot \\cos(...</td>\n",
       "      <td>True</td>\n",
       "      <td>A*x + B*(10*F*x - 5*sin(2*F*x) + sin(4*F*x) - ...</td>\n",
       "    </tr>\n",
       "    <tr>\n",
       "      <th>525</th>\n",
       "      <td>## Step 1: Identify the integral to be solved\\...</td>\n",
       "      <td>A x + \\frac{B}{F} \\left( \\frac{\\sin ^5(F x)}{5...</td>\n",
       "      <td>22</td>\n",
       "      <td>meta-llama/llama-4-scout-17b-16e-instruct</td>\n",
       "      <td>A*x + 3*B*x/256 + B*sin(2*F*x)/(512*F) - B*sin...</td>\n",
       "      <td>\\int A + B \\cdot \\sin(F \\cdot x)^4 \\cdot \\cos(...</td>\n",
       "      <td>False</td>\n",
       "      <td>A*x + B*(-sin(F*x)**11/11 + sin(F*x)**9/3 - 3*...</td>\n",
       "    </tr>\n",
       "    <tr>\n",
       "      <th>526</th>\n",
       "      <td>&lt;think&gt;\\nOkay, I'm trying to solve the integra...</td>\n",
       "      <td>\\frac{A x}{F} + \\frac{3B x}{256} + \\frac{B \\si...</td>\n",
       "      <td>22</td>\n",
       "      <td>deepseek-r1-distill-llama-70b</td>\n",
       "      <td>A*x + 3*B*x/256 + B*sin(2*F*x)/(512*F) - B*sin...</td>\n",
       "      <td>\\int A + B \\cdot \\sin(F \\cdot x)^4 \\cdot \\cos(...</td>\n",
       "      <td>True</td>\n",
       "      <td>A*x/F + 3*B*x/256 + B*sin(2*F*x)/(512*F) - B*s...</td>\n",
       "    </tr>\n",
       "    <tr>\n",
       "      <th>527</th>\n",
       "      <td>&lt;think&gt;\\nOkay, so I've got this integral to so...</td>\n",
       "      <td>A x + \\frac{B x}{64} - \\frac{B \\sin(4 F x)}{25...</td>\n",
       "      <td>22</td>\n",
       "      <td>deepseek-r1-distill-llama-70b</td>\n",
       "      <td>A*x + 3*B*x/256 + B*sin(2*F*x)/(512*F) - B*sin...</td>\n",
       "      <td>\\int A + B \\cdot \\sin(F \\cdot x)^4 \\cdot \\cos(...</td>\n",
       "      <td>False</td>\n",
       "      <td>A*x + B*x/64 + B*sin(2*F*x)**3/(192*F) - B*sin...</td>\n",
       "    </tr>\n",
       "  </tbody>\n",
       "</table>\n",
       "<p>528 rows × 8 columns</p>\n",
       "</div>"
      ],
      "text/plain": [
       "                                           full_answer  \\\n",
       "0    The final answer is:\\n$$1+x+\\frac{x^2}{2}-\\fra...   \n",
       "1    We start with the function\\n  f(x) = e^(sin(x)...   \n",
       "2    The final answer is:\\n$$1 + x + \\frac{x^2}{2} ...   \n",
       "3    To find the Maclaurin series expansion of \\( f...   \n",
       "4    The final answer is:  \\n$$\\sum_{n=0}^{\\infty} ...   \n",
       "..                                                 ...   \n",
       "523  ## Step 1: Identify the integral to be solved\\...   \n",
       "524  ## Step 1: Identify the integral to be solved\\...   \n",
       "525  ## Step 1: Identify the integral to be solved\\...   \n",
       "526  <think>\\nOkay, I'm trying to solve the integra...   \n",
       "527  <think>\\nOkay, so I've got this integral to so...   \n",
       "\n",
       "                                    final_answer_latex  question_id  \\\n",
       "0       1+x+\\frac{x^2}{2}-\\frac{x^4}{8}-\\frac{x^5}{15}            1   \n",
       "1       1+x+\\frac{x^2}{2}-\\frac{x^4}{8}-\\frac{x^5}{15}            1   \n",
       "2    1 + x + \\frac{x^2}{2} + \\frac{x^3}{3} + \\frac{...            1   \n",
       "3    1 + x + \\frac{x^2}{2} - \\frac{x^4}{6} - \\frac{...            1   \n",
       "4     \\sum_{n=0}^{\\infty} \\frac{\\sin^{(n)}(0)}{n!} x^n            1   \n",
       "..                                                 ...          ...   \n",
       "523  Ax + \\frac{B}{128F}(\\frac{3Fx}{2} - \\frac{\\sin...           22   \n",
       "524  A x+\\frac{B}{640 F} (10 F x-5 \\sin (2 F x)+\\si...           22   \n",
       "525  A x + \\frac{B}{F} \\left( \\frac{\\sin ^5(F x)}{5...           22   \n",
       "526  \\frac{A x}{F} + \\frac{3B x}{256} + \\frac{B \\si...           22   \n",
       "527  A x + \\frac{B x}{64} - \\frac{B \\sin(4 F x)}{25...           22   \n",
       "\n",
       "                                             model  \\\n",
       "0                                   openai/o3-mini   \n",
       "1                                   openai/o3-mini   \n",
       "2                                    openai/gpt-4o   \n",
       "3                                    openai/gpt-4o   \n",
       "4                               openai/gpt-4o-mini   \n",
       "..                                             ...   \n",
       "523  meta-llama/llama-4-maverick-17b-128e-instruct   \n",
       "524      meta-llama/llama-4-scout-17b-16e-instruct   \n",
       "525      meta-llama/llama-4-scout-17b-16e-instruct   \n",
       "526                  deepseek-r1-distill-llama-70b   \n",
       "527                  deepseek-r1-distill-llama-70b   \n",
       "\n",
       "                                           true_answer  \\\n",
       "0                   -x**5/15 - x**4/8 + x**2/2 + x + 1   \n",
       "1                   -x**5/15 - x**4/8 + x**2/2 + x + 1   \n",
       "2                   -x**5/15 - x**4/8 + x**2/2 + x + 1   \n",
       "3                   -x**5/15 - x**4/8 + x**2/2 + x + 1   \n",
       "4                   -x**5/15 - x**4/8 + x**2/2 + x + 1   \n",
       "..                                                 ...   \n",
       "523  A*x + 3*B*x/256 + B*sin(2*F*x)/(512*F) - B*sin...   \n",
       "524  A*x + 3*B*x/256 + B*sin(2*F*x)/(512*F) - B*sin...   \n",
       "525  A*x + 3*B*x/256 + B*sin(2*F*x)/(512*F) - B*sin...   \n",
       "526  A*x + 3*B*x/256 + B*sin(2*F*x)/(512*F) - B*sin...   \n",
       "527  A*x + 3*B*x/256 + B*sin(2*F*x)/(512*F) - B*sin...   \n",
       "\n",
       "                                         question_text  code_execution  \\\n",
       "0    Compute the first 5 nonzero terms (not necessa...            True   \n",
       "1    Compute the first 5 nonzero terms (not necessa...           False   \n",
       "2    Compute the first 5 nonzero terms (not necessa...            True   \n",
       "3    Compute the first 5 nonzero terms (not necessa...           False   \n",
       "4    Compute the first 5 nonzero terms (not necessa...            True   \n",
       "..                                                 ...             ...   \n",
       "523  \\int A + B \\cdot \\sin(F \\cdot x)^4 \\cdot \\cos(...           False   \n",
       "524  \\int A + B \\cdot \\sin(F \\cdot x)^4 \\cdot \\cos(...            True   \n",
       "525  \\int A + B \\cdot \\sin(F \\cdot x)^4 \\cdot \\cos(...           False   \n",
       "526  \\int A + B \\cdot \\sin(F \\cdot x)^4 \\cdot \\cos(...            True   \n",
       "527  \\int A + B \\cdot \\sin(F \\cdot x)^4 \\cdot \\cos(...           False   \n",
       "\n",
       "                                          model_answer  \n",
       "0                   -x**5/15 - x**4/8 + x**2/2 + x + 1  \n",
       "1                   -x**5/15 - x**4/8 + x**2/2 + x + 1  \n",
       "2                     x**4/8 + x**3/3 + x**2/2 + x + 1  \n",
       "3                  -x**5/120 - x**4/6 + x**2/2 + x + 1  \n",
       "4              Sum(0**n*x**n/factorial(n), (n, 0, oo))  \n",
       "..                                                 ...  \n",
       "523  A*x + B*(3*F*x/2 + 2*sin(2*F*x)**5/5 - sin(4*F...  \n",
       "524  A*x + B*(10*F*x - 5*sin(2*F*x) + sin(4*F*x) - ...  \n",
       "525  A*x + B*(-sin(F*x)**11/11 + sin(F*x)**9/3 - 3*...  \n",
       "526  A*x/F + 3*B*x/256 + B*sin(2*F*x)/(512*F) - B*s...  \n",
       "527  A*x + B*x/64 + B*sin(2*F*x)**3/(192*F) - B*sin...  \n",
       "\n",
       "[528 rows x 8 columns]"
      ]
     },
     "execution_count": 5,
     "metadata": {},
     "output_type": "execute_result"
    }
   ],
   "source": [
    "df = pd.read_excel('results_mp.xlsx')\n",
    "df.true_answer = df.true_answer.map(math_parsers.parse_sympy_str)\n",
    "df['model_answer'] = df.final_answer_latex.map(math_parsers.latex_to_sympy_deter)\n",
    "df"
   ]
  },
  {
   "cell_type": "code",
   "execution_count": 7,
   "id": "3b86ce37-8a00-4ca6-bbbb-f3c938d31fe7",
   "metadata": {},
   "outputs": [
    {
     "name": "stdout",
     "output_type": "stream",
     "text": [
      "Total number of entries: 528\n",
      "Successfully extracted latex: 504. Drop of 24\n",
      "Successfully extracted sympy: 498. Drop of 6\n"
     ]
    }
   ],
   "source": [
    "n_entries = len(df)\n",
    "print(f'Total number of entries: {n_entries}')\n",
    "\n",
    "succ_latex = df[~df.final_answer_latex.isna()]\n",
    "n_succ_latex = len(succ_latex)\n",
    "print(f'Successfully extracted latex: {n_succ_latex}. Drop of {n_entries-n_succ_latex}')\n",
    "\n",
    "succ_sp = succ_latex[~succ_latex.model_answer.isna()]\n",
    "n_succ_sp = len(succ_sp)\n",
    "print(f'Successfully extracted sympy: {n_succ_sp}. Drop of {n_succ_latex-n_succ_sp}')"
   ]
  },
  {
   "cell_type": "code",
   "execution_count": 8,
   "id": "0f5cdc24-ef62-4d2b-8024-17b9686cb8e3",
   "metadata": {},
   "outputs": [],
   "source": [
    "df = succ_sp\n",
    "n_rows = len(df)"
   ]
  },
  {
   "cell_type": "code",
   "execution_count": null,
   "id": "db1cbef3-d44c-45dc-8121-7f85fec81055",
   "metadata": {},
   "outputs": [],
   "source": [
    "df['diff_llm_deter'] = (df.sp_deter - df.sp_llm).map(sp.simplify)"
   ]
  },
  {
   "cell_type": "code",
   "execution_count": null,
   "id": "0d646991-8ad2-4455-baa2-c9106dfab1b6",
   "metadata": {},
   "outputs": [],
   "source": [
    "df[df.diff_llm_deter != 0][['diff_llm_deter', 'sp_deter', 'sp_llm']]"
   ]
  },
  {
   "cell_type": "markdown",
   "id": "cd27620b-a288-4840-9655-a3dc7c4a0747",
   "metadata": {},
   "source": [
    "Equal, but `sp.simplify` doesn't manage to see that:"
   ]
  },
  {
   "cell_type": "code",
   "execution_count": null,
   "id": "0282e449-771b-4dd9-b109-fd8ee1f48bc8",
   "metadata": {},
   "outputs": [],
   "source": [
    "df.iloc[25].diff_llm_deter"
   ]
  },
  {
   "cell_type": "code",
   "execution_count": null,
   "id": "ad9626ed-a1e4-4a76-acdd-1662388da72d",
   "metadata": {},
   "outputs": [],
   "source": [
    "df.iloc[37].diff_llm_deter"
   ]
  },
  {
   "cell_type": "markdown",
   "id": "fb0c3195-5700-45bd-acbf-ba76560ebe47",
   "metadata": {},
   "source": [
    "sympy parsing latex syntax as constants (`Biggl` and others are latex operators):"
   ]
  },
  {
   "cell_type": "code",
   "execution_count": null,
   "id": "54f1eff1-5dcb-442f-9842-6e44c63fafe3",
   "metadata": {},
   "outputs": [],
   "source": [
    "df.iloc[13].sp_deter"
   ]
  },
  {
   "cell_type": "markdown",
   "id": "7019cba8-f03f-4051-8d31-b3715f5f2347",
   "metadata": {},
   "source": [
    "* 1 cases are equal equal, with extra (different) terms that describe additional terms that are not writtin on propose ($O(x^5)$ or $\\dots$)\n",
    "* 2 cases are perfectly equal but sympy couldn't fully simplify them.\n",
    "* 1 case LLM translation failiure\n",
    "* 1 case sp translates latex operators as constants"
   ]
  },
  {
   "cell_type": "markdown",
   "id": "750e261d-8999-45d9-b728-b775caf66618",
   "metadata": {},
   "source": [
    "## Compare LLM answer to true answer"
   ]
  },
  {
   "cell_type": "code",
   "execution_count": 11,
   "id": "0a3aee68-0e97-45e5-9174-537a43ab60e2",
   "metadata": {},
   "outputs": [
    {
     "data": {
      "text/plain": [
       "0                                                      0\n",
       "1                                                      0\n",
       "2                             -x**5/15 - x**4/4 - x**3/3\n",
       "3                                  -7*x**5/120 + x**4/24\n",
       "4      -x**5/15 - x**4/8 + x**2/2 + x - Sum(0**n*x**n...\n",
       "                             ...                        \n",
       "523    3*B*x/256 - B*(3*F*x/2 + 2*sin(2*F*x)**5/5 - s...\n",
       "524    3*B*x/256 - B*(10*F*x - 5*sin(2*F*x) + sin(4*F...\n",
       "525    3*B*x/256 - B*(-sin(F*x)**11/11 + sin(F*x)**9/...\n",
       "526                                      A*x - A*x/F - C\n",
       "527    -B*x/256 - B*sin(2*F*x)**3/(192*F) + B*sin(2*F...\n",
       "Length: 498, dtype: object"
      ]
     },
     "execution_count": 11,
     "metadata": {},
     "output_type": "execute_result"
    }
   ],
   "source": [
    "df.true_answer.map(lambda x: x.removeO()) - df.model_answer.map(lambda x: x.removeO())"
   ]
  },
  {
   "cell_type": "code",
   "execution_count": 12,
   "id": "993bcc8c-0cfc-4278-8bf8-04472812f72d",
   "metadata": {},
   "outputs": [
    {
     "name": "stderr",
     "output_type": "stream",
     "text": [
      "C:\\Users\\admin2\\AppData\\Local\\Temp\\ipykernel_9180\\628749566.py:1: SettingWithCopyWarning: \n",
      "A value is trying to be set on a copy of a slice from a DataFrame.\n",
      "Try using .loc[row_indexer,col_indexer] = value instead\n",
      "\n",
      "See the caveats in the documentation: https://pandas.pydata.org/pandas-docs/stable/user_guide/indexing.html#returning-a-view-versus-a-copy\n",
      "  df['diff_unsimplified'] = (\n"
     ]
    }
   ],
   "source": [
    "df['diff_unsimplified'] = (\n",
    "    df.true_answer.map(lambda x: x.removeO()) - \n",
    "    df.model_answer.map(lambda x: x.removeO())\n",
    "    )"
   ]
  },
  {
   "cell_type": "code",
   "execution_count": 16,
   "id": "6221bf31-8a12-4c41-872b-3b63461fb0bf",
   "metadata": {},
   "outputs": [
    {
     "name": "stderr",
     "output_type": "stream",
     "text": [
      "C:\\Users\\admin2\\AppData\\Local\\Temp\\ipykernel_9180\\4275732196.py:7: SettingWithCopyWarning: \n",
      "A value is trying to be set on a copy of a slice from a DataFrame.\n",
      "Try using .loc[row_indexer,col_indexer] = value instead\n",
      "\n",
      "See the caveats in the documentation: https://pandas.pydata.org/pandas-docs/stable/user_guide/indexing.html#returning-a-view-versus-a-copy\n",
      "  df['diff'] = df.diff_unsimplified.map(safe_simplify)\n"
     ]
    }
   ],
   "source": [
    "def safe_simplify(expr):\n",
    "    try:\n",
    "        return sp.simplify(expr)\n",
    "    except Exception:\n",
    "        return pd.NA\n",
    "\n",
    "df['llm_to_correct_diff'] = df.diff_unsimplified.map(safe_simplify)"
   ]
  },
  {
   "cell_type": "code",
   "execution_count": 23,
   "id": "63853211-bb40-4c2e-b459-76d6e121ba57",
   "metadata": {},
   "outputs": [
    {
     "data": {
      "text/html": [
       "<div>\n",
       "<style scoped>\n",
       "    .dataframe tbody tr th:only-of-type {\n",
       "        vertical-align: middle;\n",
       "    }\n",
       "\n",
       "    .dataframe tbody tr th {\n",
       "        vertical-align: top;\n",
       "    }\n",
       "\n",
       "    .dataframe thead th {\n",
       "        text-align: right;\n",
       "    }\n",
       "</style>\n",
       "<table border=\"1\" class=\"dataframe\">\n",
       "  <thead>\n",
       "    <tr style=\"text-align: right;\">\n",
       "      <th></th>\n",
       "      <th>full_answer</th>\n",
       "      <th>final_answer_latex</th>\n",
       "      <th>question_id</th>\n",
       "      <th>model</th>\n",
       "      <th>true_answer</th>\n",
       "      <th>question_text</th>\n",
       "      <th>code_execution</th>\n",
       "      <th>model_answer</th>\n",
       "      <th>diff_unsimplified</th>\n",
       "      <th>diff</th>\n",
       "    </tr>\n",
       "  </thead>\n",
       "  <tbody>\n",
       "    <tr>\n",
       "      <th>326</th>\n",
       "      <td>```python\\nimport sympy\\n\\n# Define the variab...</td>\n",
       "      <td>\\lim_{x \\to 5 A} \\left(\\frac{3 B x}{x - 5 A} -...</td>\n",
       "      <td>14</td>\n",
       "      <td>gemini/gemma-3-27b-it</td>\n",
       "      <td>(3*B/2)**F</td>\n",
       "      <td>\\lim_{x \\to A \\cdot 5} \\left( \\frac{ B \\cdot 3...</td>\n",
       "      <td>True</td>\n",
       "      <td>Limit((3*B*x/(-5*A + x) - 3*B*log(E)/log(x/(5*...</td>\n",
       "      <td>(3*B/2)**F - Limit((3*B*x/(-5*A + x) - 3*B*log...</td>\n",
       "      <td>&lt;NA&gt;</td>\n",
       "    </tr>\n",
       "  </tbody>\n",
       "</table>\n",
       "</div>"
      ],
      "text/plain": [
       "                                           full_answer  \\\n",
       "326  ```python\\nimport sympy\\n\\n# Define the variab...   \n",
       "\n",
       "                                    final_answer_latex  question_id  \\\n",
       "326  \\lim_{x \\to 5 A} \\left(\\frac{3 B x}{x - 5 A} -...           14   \n",
       "\n",
       "                     model true_answer  \\\n",
       "326  gemini/gemma-3-27b-it  (3*B/2)**F   \n",
       "\n",
       "                                         question_text  code_execution  \\\n",
       "326  \\lim_{x \\to A \\cdot 5} \\left( \\frac{ B \\cdot 3...            True   \n",
       "\n",
       "                                          model_answer  \\\n",
       "326  Limit((3*B*x/(-5*A + x) - 3*B*log(E)/log(x/(5*...   \n",
       "\n",
       "                                     diff_unsimplified  diff  \n",
       "326  (3*B/2)**F - Limit((3*B*x/(-5*A + x) - 3*B*log...  <NA>  "
      ]
     },
     "execution_count": 23,
     "metadata": {},
     "output_type": "execute_result"
    }
   ],
   "source": [
    "df[df['llm_to_correct_diff'].isna()]"
   ]
  },
  {
   "cell_type": "code",
   "execution_count": 27,
   "id": "b96c60a7-5b86-4a68-9ed1-b70bc6304aa1",
   "metadata": {},
   "outputs": [],
   "source": [
    "df = df[~df['diff'].isna()]"
   ]
  },
  {
   "cell_type": "code",
   "execution_count": 28,
   "id": "24c62593-e218-4de5-88bd-9359432f46a3",
   "metadata": {},
   "outputs": [],
   "source": [
    "df['symb_correct'] = (df.llm_to_correct_diff == 0) | (df.llm_to_correct_diff == C) | (df.llm_to_correct_diff == -C)"
   ]
  },
  {
   "cell_type": "code",
   "execution_count": 29,
   "id": "31c72c46-21c5-40d0-9e34-4fcbfde164a5",
   "metadata": {},
   "outputs": [
    {
     "name": "stdout",
     "output_type": "stream",
     "text": [
      "Symbolicaly correct: 247/498\n",
      "Symbolicaly incorrect: 250/498\n"
     ]
    }
   ],
   "source": [
    "print(f'Symbolicaly correct: {len(df[df.symb_correct])}/{n_rows}')\n",
    "print(f'Symbolicaly incorrect: {len(df[~df.symb_correct])}/{n_rows}')"
   ]
  },
  {
   "cell_type": "code",
   "execution_count": 30,
   "id": "fc6c0a10-0fdb-41ad-93a3-1fa3d040a504",
   "metadata": {},
   "outputs": [],
   "source": [
    "import numpy as np\n",
    "NORMAL_DIST_GENERATOR = lambda: 100 * np.random.randn()"
   ]
  },
  {
   "cell_type": "code",
   "execution_count": 31,
   "id": "5af1ea46-f273-4234-8dcd-8a482dcb1d21",
   "metadata": {},
   "outputs": [],
   "source": [
    "UPPER_LIMIT_FINITE = 10\n",
    "\n",
    "def replace_infinite_sums(expr, new_upper=UPPER_LIMIT_FINITE):\n",
    "    \"\"\"\n",
    "    Recursively replaces all infinite sums (Sum objects with upper limit of oo)\n",
    "    with versions using `new_upper` as the upper limit.\n",
    "    \"\"\"\n",
    "    replacements = {}\n",
    "\n",
    "    for s in expr.atoms(sp.Sum):\n",
    "        new_limits = []\n",
    "        changed = False\n",
    "        for lim in s.limits:\n",
    "            var, lower, upper = lim\n",
    "            if upper == sp.oo:\n",
    "                new_limits.append((var, lower, new_upper))\n",
    "                changed = True\n",
    "            else:\n",
    "                new_limits.append(lim)\n",
    "        if changed:\n",
    "            replacements[s] = sp.Sum(s.function, *new_limits)\n",
    "\n",
    "    return expr.xreplace(replacements)\n",
    "\n",
    "\n",
    "def check_answer_numeric(expr_a, expr_b, n_attempts=2, allowed_diff=1e-5, strict=True, debug=False):\n",
    "    free_symbols = expr_a.free_symbols.union(expr_b.free_symbols)\n",
    "\n",
    "    expr_a = expr_a.removeO()\n",
    "    if expr_a.has(sp.Sum):\n",
    "        expr_a = replace_infinite_sums(expr_a)\n",
    "\n",
    "    expr_b = expr_b.removeO()\n",
    "    if expr_b.has(sp.Sum):\n",
    "        expr_b = replace_infinite_sums(expr_b)\n",
    "    \n",
    "    if debug:\n",
    "        print('expr_a: ', expr_a)\n",
    "        print('expr_b: ', expr_b)\n",
    "\n",
    "    diffs = []\n",
    "    for _ in range(n_attempts):\n",
    "        subs = {}\n",
    "        for symb in free_symbols:\n",
    "            subs[symb] = NORMAL_DIST_GENERATOR()\n",
    "\n",
    "        numer_val_a = expr_a.subs(subs).doit()\n",
    "        numer_val_b = expr_b.subs(subs).doit()\n",
    "        diffs.append(abs(\n",
    "            (numer_val_a - numer_val_b) / \n",
    "            (numer_val_a + numer_val_b)\n",
    "        ))\n",
    "\n",
    "        if debug:\n",
    "            print('subs: ', subs)\n",
    "            print('diff: ', diffs[-1])\n",
    "        \n",
    "    try:\n",
    "        if strict:\n",
    "            return all([diff < allowed_diff for diff in diffs])\n",
    "        # Currently will fail\n",
    "        return pd.NA\n",
    "        return (max(diffs) - min(diffs)) < allowed_diff\n",
    "    except Exception as e:\n",
    "        print(e)\n",
    "        print(expr_a, expr_b)\n",
    "        return pd.NA"
   ]
  },
  {
   "cell_type": "code",
   "execution_count": 32,
   "id": "666551c9-610f-4cd1-ba6d-ad9a14f96349",
   "metadata": {},
   "outputs": [
    {
     "name": "stdout",
     "output_type": "stream",
     "text": [
      "Invalid NaN comparison\n",
      "1/150 -oo\n",
      "Invalid NaN comparison\n",
      "1/(150*A) oo\n",
      "Invalid NaN comparison\n",
      "3/2 -oo\n",
      "Invalid NaN comparison\n",
      "(3*B/2)**F 0**F\n",
      "Invalid NaN comparison\n",
      "(A/(2*F))**B 0**B\n",
      "cannot determine truth value of Relational\n",
      "e**(4/9) e**(1/3)\n",
      "Invalid NaN comparison\n",
      "e**(-1/24) oo\n"
     ]
    }
   ],
   "source": [
    "df['numer_correct'] = df.apply(lambda row: check_answer_numeric(row.true_answer, row.model_answer), axis=1)"
   ]
  },
  {
   "cell_type": "code",
   "execution_count": 35,
   "id": "2b3071da-b342-4ef6-b2b8-4c0784cf6a99",
   "metadata": {},
   "outputs": [
    {
     "data": {
      "text/html": [
       "<div>\n",
       "<style scoped>\n",
       "    .dataframe tbody tr th:only-of-type {\n",
       "        vertical-align: middle;\n",
       "    }\n",
       "\n",
       "    .dataframe tbody tr th {\n",
       "        vertical-align: top;\n",
       "    }\n",
       "\n",
       "    .dataframe thead th {\n",
       "        text-align: right;\n",
       "    }\n",
       "</style>\n",
       "<table border=\"1\" class=\"dataframe\">\n",
       "  <thead>\n",
       "    <tr style=\"text-align: right;\">\n",
       "      <th></th>\n",
       "      <th>full_answer</th>\n",
       "      <th>final_answer_latex</th>\n",
       "      <th>question_id</th>\n",
       "      <th>model</th>\n",
       "      <th>true_answer</th>\n",
       "      <th>question_text</th>\n",
       "      <th>code_execution</th>\n",
       "      <th>model_answer</th>\n",
       "      <th>diff_unsimplified</th>\n",
       "      <th>diff</th>\n",
       "      <th>llm_to_correct_diff</th>\n",
       "      <th>symb_correct</th>\n",
       "      <th>numer_correct</th>\n",
       "    </tr>\n",
       "  </thead>\n",
       "  <tbody>\n",
       "    <tr>\n",
       "      <th>213</th>\n",
       "      <td>## Step 1: We need to compute the given limit\\...</td>\n",
       "      <td>-\\infty</td>\n",
       "      <td>9</td>\n",
       "      <td>meta-llama/llama-4-scout-17b-16e-instruct</td>\n",
       "      <td>1/150</td>\n",
       "      <td>Compute $\\lim_{x \\to 0}\\left(\\frac{ 2 \\cdot \\c...</td>\n",
       "      <td>False</td>\n",
       "      <td>-oo</td>\n",
       "      <td>oo</td>\n",
       "      <td>oo</td>\n",
       "      <td>oo</td>\n",
       "      <td>False</td>\n",
       "      <td>&lt;NA&gt;</td>\n",
       "    </tr>\n",
       "    <tr>\n",
       "      <th>221</th>\n",
       "      <td>To compute the limit \\n\\n\\[\\n\\lim_{x \\to 0}\\fr...</td>\n",
       "      <td>\\infty</td>\n",
       "      <td>10</td>\n",
       "      <td>openai/gpt-4o-mini</td>\n",
       "      <td>1/(150*A)</td>\n",
       "      <td>Compute $\\lim_{x \\to 0}\\frac{(2 \\cos (F x)+4) ...</td>\n",
       "      <td>False</td>\n",
       "      <td>oo</td>\n",
       "      <td>-oo + 1/(150*A)</td>\n",
       "      <td>-oo + 1/(150*A)</td>\n",
       "      <td>-oo + 1/(150*A)</td>\n",
       "      <td>False</td>\n",
       "      <td>&lt;NA&gt;</td>\n",
       "    </tr>\n",
       "    <tr>\n",
       "      <th>291</th>\n",
       "      <td>To evaluate the limit \\(\\lim_{x \\to 5} \\left( ...</td>\n",
       "      <td>-\\infty</td>\n",
       "      <td>13</td>\n",
       "      <td>openai/gpt-4o</td>\n",
       "      <td>3/2</td>\n",
       "      <td>\\lim_{x \\to 5} \\left( \\frac{ 3 \\cdot x }{ x-5 ...</td>\n",
       "      <td>False</td>\n",
       "      <td>-oo</td>\n",
       "      <td>oo</td>\n",
       "      <td>oo</td>\n",
       "      <td>oo</td>\n",
       "      <td>False</td>\n",
       "      <td>&lt;NA&gt;</td>\n",
       "    </tr>\n",
       "    <tr>\n",
       "      <th>317</th>\n",
       "      <td>To evaluate the limit\\n\\n$$\\lim_{x \\to A \\cdot...</td>\n",
       "      <td>0^{F}</td>\n",
       "      <td>14</td>\n",
       "      <td>openai/gpt-4o-mini</td>\n",
       "      <td>(3*B/2)**F</td>\n",
       "      <td>\\lim_{x \\to A \\cdot 5} \\left( \\frac{ B \\cdot 3...</td>\n",
       "      <td>False</td>\n",
       "      <td>0**F</td>\n",
       "      <td>-0**F + (3*B/2)**F</td>\n",
       "      <td>(-0**F + (3*B)**F)/2**F</td>\n",
       "      <td>(-0**F + (3*B)**F)/2**F</td>\n",
       "      <td>False</td>\n",
       "      <td>&lt;NA&gt;</td>\n",
       "    </tr>\n",
       "    <tr>\n",
       "      <th>380</th>\n",
       "      <td>## Step 1: Understand the given limit expressi...</td>\n",
       "      <td>0^B</td>\n",
       "      <td>16</td>\n",
       "      <td>meta-llama/llama-4-scout-17b-16e-instruct</td>\n",
       "      <td>(A/(2*F))**B</td>\n",
       "      <td>\\lim_{x \\to \\infty} \\left(A \\cdot x - A \\cdot ...</td>\n",
       "      <td>True</td>\n",
       "      <td>0**B</td>\n",
       "      <td>-0**B + (A/(2*F))**B</td>\n",
       "      <td>-0**B + (A/(2*F))**B</td>\n",
       "      <td>-0**B + (A/(2*F))**B</td>\n",
       "      <td>False</td>\n",
       "      <td>&lt;NA&gt;</td>\n",
       "    </tr>\n",
       "    <tr>\n",
       "      <th>388</th>\n",
       "      <td>The final answer is: $$e^{\\frac{1}{3}}$$</td>\n",
       "      <td>e^{\\frac{1}{3}}</td>\n",
       "      <td>17</td>\n",
       "      <td>openai/gpt-4o-mini</td>\n",
       "      <td>e**(4/9)</td>\n",
       "      <td>\\lim_{x \\to 0^{+}} \\left( \\left( \\frac{ \\tan(2...</td>\n",
       "      <td>True</td>\n",
       "      <td>e**(1/3)</td>\n",
       "      <td>e**(4/9) - e**(1/3)</td>\n",
       "      <td>e**(4/9) - e**(1/3)</td>\n",
       "      <td>e**(4/9) - e**(1/3)</td>\n",
       "      <td>False</td>\n",
       "      <td>&lt;NA&gt;</td>\n",
       "    </tr>\n",
       "    <tr>\n",
       "      <th>446</th>\n",
       "      <td>```python\\nimport sympy\\nimport math\\n\\nx = sy...</td>\n",
       "      <td>\\infty</td>\n",
       "      <td>19</td>\n",
       "      <td>gemini/gemma-3-27b-it</td>\n",
       "      <td>e**(-1/24)</td>\n",
       "      <td>\\lim_{x \\to 0}\\left( \\left| \\frac{ -\\sin(x) }{...</td>\n",
       "      <td>True</td>\n",
       "      <td>oo</td>\n",
       "      <td>-oo + e**(-1/24)</td>\n",
       "      <td>-oo + e**(-1/24)</td>\n",
       "      <td>-oo + e**(-1/24)</td>\n",
       "      <td>False</td>\n",
       "      <td>&lt;NA&gt;</td>\n",
       "    </tr>\n",
       "  </tbody>\n",
       "</table>\n",
       "</div>"
      ],
      "text/plain": [
       "                                           full_answer final_answer_latex  \\\n",
       "213  ## Step 1: We need to compute the given limit\\...            -\\infty   \n",
       "221  To compute the limit \\n\\n\\[\\n\\lim_{x \\to 0}\\fr...             \\infty   \n",
       "291  To evaluate the limit \\(\\lim_{x \\to 5} \\left( ...            -\\infty   \n",
       "317  To evaluate the limit\\n\\n$$\\lim_{x \\to A \\cdot...              0^{F}   \n",
       "380  ## Step 1: Understand the given limit expressi...                0^B   \n",
       "388           The final answer is: $$e^{\\frac{1}{3}}$$    e^{\\frac{1}{3}}   \n",
       "446  ```python\\nimport sympy\\nimport math\\n\\nx = sy...             \\infty   \n",
       "\n",
       "     question_id                                      model   true_answer  \\\n",
       "213            9  meta-llama/llama-4-scout-17b-16e-instruct         1/150   \n",
       "221           10                         openai/gpt-4o-mini     1/(150*A)   \n",
       "291           13                              openai/gpt-4o           3/2   \n",
       "317           14                         openai/gpt-4o-mini    (3*B/2)**F   \n",
       "380           16  meta-llama/llama-4-scout-17b-16e-instruct  (A/(2*F))**B   \n",
       "388           17                         openai/gpt-4o-mini      e**(4/9)   \n",
       "446           19                      gemini/gemma-3-27b-it    e**(-1/24)   \n",
       "\n",
       "                                         question_text  code_execution  \\\n",
       "213  Compute $\\lim_{x \\to 0}\\left(\\frac{ 2 \\cdot \\c...           False   \n",
       "221  Compute $\\lim_{x \\to 0}\\frac{(2 \\cos (F x)+4) ...           False   \n",
       "291  \\lim_{x \\to 5} \\left( \\frac{ 3 \\cdot x }{ x-5 ...           False   \n",
       "317  \\lim_{x \\to A \\cdot 5} \\left( \\frac{ B \\cdot 3...           False   \n",
       "380  \\lim_{x \\to \\infty} \\left(A \\cdot x - A \\cdot ...            True   \n",
       "388  \\lim_{x \\to 0^{+}} \\left( \\left( \\frac{ \\tan(2...            True   \n",
       "446  \\lim_{x \\to 0}\\left( \\left| \\frac{ -\\sin(x) }{...            True   \n",
       "\n",
       "    model_answer     diff_unsimplified                     diff  \\\n",
       "213          -oo                    oo                       oo   \n",
       "221           oo       -oo + 1/(150*A)          -oo + 1/(150*A)   \n",
       "291          -oo                    oo                       oo   \n",
       "317         0**F    -0**F + (3*B/2)**F  (-0**F + (3*B)**F)/2**F   \n",
       "380         0**B  -0**B + (A/(2*F))**B     -0**B + (A/(2*F))**B   \n",
       "388     e**(1/3)   e**(4/9) - e**(1/3)      e**(4/9) - e**(1/3)   \n",
       "446           oo      -oo + e**(-1/24)         -oo + e**(-1/24)   \n",
       "\n",
       "         llm_to_correct_diff  symb_correct numer_correct  \n",
       "213                       oo         False          <NA>  \n",
       "221          -oo + 1/(150*A)         False          <NA>  \n",
       "291                       oo         False          <NA>  \n",
       "317  (-0**F + (3*B)**F)/2**F         False          <NA>  \n",
       "380     -0**B + (A/(2*F))**B         False          <NA>  \n",
       "388      e**(4/9) - e**(1/3)         False          <NA>  \n",
       "446         -oo + e**(-1/24)         False          <NA>  "
      ]
     },
     "execution_count": 35,
     "metadata": {},
     "output_type": "execute_result"
    }
   ],
   "source": [
    "invalid_numer_comp = df[df.numer_correct.isna()]\n",
    "invalid_numer_comp "
   ]
  },
  {
   "cell_type": "code",
   "execution_count": 36,
   "id": "50719dd2-8798-46f8-879a-a05d374c63d9",
   "metadata": {},
   "outputs": [],
   "source": [
    "df = df[~df.numer_correct.isna()]"
   ]
  },
  {
   "cell_type": "code",
   "execution_count": 37,
   "id": "e2f2361a-2341-4e78-aa60-f7adc239d41e",
   "metadata": {},
   "outputs": [],
   "source": [
    "df.numer_correct = df.numer_correct.astype(\"boolean\")"
   ]
  },
  {
   "cell_type": "code",
   "execution_count": 38,
   "id": "0909853b-9876-4a61-b87a-027cfc24c4db",
   "metadata": {},
   "outputs": [
    {
     "data": {
      "text/plain": [
       "245"
      ]
     },
     "execution_count": 38,
     "metadata": {},
     "output_type": "execute_result"
    }
   ],
   "source": [
    "len(df[df.symb_correct & df.numer_correct])"
   ]
  },
  {
   "cell_type": "code",
   "execution_count": 39,
   "id": "a86e9633-73d1-4c3b-85ab-1c3928a7c857",
   "metadata": {},
   "outputs": [
    {
     "data": {
      "text/plain": [
       "2"
      ]
     },
     "execution_count": 39,
     "metadata": {},
     "output_type": "execute_result"
    }
   ],
   "source": [
    "len(df[df.symb_correct & ~df.numer_correct])"
   ]
  },
  {
   "cell_type": "code",
   "execution_count": 40,
   "id": "7c77831a-3334-4994-9689-b2f4809b16ec",
   "metadata": {},
   "outputs": [
    {
     "data": {
      "text/plain": [
       "26"
      ]
     },
     "execution_count": 40,
     "metadata": {},
     "output_type": "execute_result"
    }
   ],
   "source": [
    "len(df[~df.symb_correct & df.numer_correct])"
   ]
  },
  {
   "cell_type": "code",
   "execution_count": 41,
   "id": "174ffd56-d4e0-411f-96cf-9b504f7be1f0",
   "metadata": {},
   "outputs": [
    {
     "data": {
      "text/plain": [
       "217"
      ]
     },
     "execution_count": 41,
     "metadata": {},
     "output_type": "execute_result"
    }
   ],
   "source": [
    "len(df[~df.symb_correct & ~df.numer_correct])"
   ]
  },
  {
   "cell_type": "code",
   "execution_count": 42,
   "id": "f2e6a1f8-1fae-4bd9-91b6-8f5a2e6ff95b",
   "metadata": {},
   "outputs": [],
   "source": [
    "df.to_excel('valid_results_with_res_check.xlsx')"
   ]
  },
  {
   "cell_type": "markdown",
   "id": "d71d52d3-2913-4313-9164-b5b1e0ee7702",
   "metadata": {},
   "source": [
    "# Summarize"
   ]
  },
  {
   "cell_type": "code",
   "execution_count": 44,
   "id": "8b58e04e-efe0-437b-843e-e638b5b84790",
   "metadata": {},
   "outputs": [],
   "source": [
    "df_for_stats = df.copy()"
   ]
  },
  {
   "cell_type": "code",
   "execution_count": 45,
   "id": "348ad081-2eb8-43f4-ae45-474d5dd8b423",
   "metadata": {},
   "outputs": [],
   "source": [
    "df_for_stats['q_id_dist'] = df_for_stats.question_id.astype('str') + df_for_stats.code_execution.astype('str')"
   ]
  },
  {
   "cell_type": "code",
   "execution_count": 46,
   "id": "6c9d5533-298d-4f11-81ed-3eea0d6034cb",
   "metadata": {},
   "outputs": [
    {
     "data": {
      "text/html": [
       "<div>\n",
       "<style scoped>\n",
       "    .dataframe tbody tr th:only-of-type {\n",
       "        vertical-align: middle;\n",
       "    }\n",
       "\n",
       "    .dataframe tbody tr th {\n",
       "        vertical-align: top;\n",
       "    }\n",
       "\n",
       "    .dataframe thead th {\n",
       "        text-align: right;\n",
       "    }\n",
       "</style>\n",
       "<table border=\"1\" class=\"dataframe\">\n",
       "  <thead>\n",
       "    <tr style=\"text-align: right;\">\n",
       "      <th></th>\n",
       "      <th>n_valid_resp</th>\n",
       "      <th>symb_correct</th>\n",
       "      <th>numer_correct</th>\n",
       "    </tr>\n",
       "    <tr>\n",
       "      <th>model</th>\n",
       "      <th></th>\n",
       "      <th></th>\n",
       "      <th></th>\n",
       "    </tr>\n",
       "  </thead>\n",
       "  <tbody>\n",
       "    <tr>\n",
       "      <th>deepseek-r1-distill-llama-70b</th>\n",
       "      <td>39</td>\n",
       "      <td>26</td>\n",
       "      <td>30</td>\n",
       "    </tr>\n",
       "    <tr>\n",
       "      <th>gemini/gemini-2.0-flash</th>\n",
       "      <td>41</td>\n",
       "      <td>31</td>\n",
       "      <td>32</td>\n",
       "    </tr>\n",
       "    <tr>\n",
       "      <th>gemini/gemini-2.0-flash-lite</th>\n",
       "      <td>44</td>\n",
       "      <td>13</td>\n",
       "      <td>14</td>\n",
       "    </tr>\n",
       "    <tr>\n",
       "      <th>gemini/gemini-2.5-flash-preview-04-17</th>\n",
       "      <td>42</td>\n",
       "      <td>30</td>\n",
       "      <td>34</td>\n",
       "    </tr>\n",
       "    <tr>\n",
       "      <th>gemini/gemini-2.5-pro-preview-03-25</th>\n",
       "      <td>42</td>\n",
       "      <td>33</td>\n",
       "      <td>35</td>\n",
       "    </tr>\n",
       "    <tr>\n",
       "      <th>gemini/gemma-3-27b-it</th>\n",
       "      <td>40</td>\n",
       "      <td>9</td>\n",
       "      <td>13</td>\n",
       "    </tr>\n",
       "    <tr>\n",
       "      <th>meta-llama/llama-4-maverick-17b-128e-instruct</th>\n",
       "      <td>39</td>\n",
       "      <td>22</td>\n",
       "      <td>24</td>\n",
       "    </tr>\n",
       "    <tr>\n",
       "      <th>meta-llama/llama-4-scout-17b-16e-instruct</th>\n",
       "      <td>42</td>\n",
       "      <td>19</td>\n",
       "      <td>21</td>\n",
       "    </tr>\n",
       "    <tr>\n",
       "      <th>openai/gpt-4o</th>\n",
       "      <td>43</td>\n",
       "      <td>5</td>\n",
       "      <td>6</td>\n",
       "    </tr>\n",
       "    <tr>\n",
       "      <th>openai/gpt-4o-mini</th>\n",
       "      <td>41</td>\n",
       "      <td>4</td>\n",
       "      <td>4</td>\n",
       "    </tr>\n",
       "    <tr>\n",
       "      <th>openai/o3-mini</th>\n",
       "      <td>44</td>\n",
       "      <td>31</td>\n",
       "      <td>34</td>\n",
       "    </tr>\n",
       "    <tr>\n",
       "      <th>qwen-qwq-32b</th>\n",
       "      <td>33</td>\n",
       "      <td>24</td>\n",
       "      <td>24</td>\n",
       "    </tr>\n",
       "  </tbody>\n",
       "</table>\n",
       "</div>"
      ],
      "text/plain": [
       "                                               n_valid_resp  symb_correct  \\\n",
       "model                                                                       \n",
       "deepseek-r1-distill-llama-70b                            39            26   \n",
       "gemini/gemini-2.0-flash                                  41            31   \n",
       "gemini/gemini-2.0-flash-lite                             44            13   \n",
       "gemini/gemini-2.5-flash-preview-04-17                    42            30   \n",
       "gemini/gemini-2.5-pro-preview-03-25                      42            33   \n",
       "gemini/gemma-3-27b-it                                    40             9   \n",
       "meta-llama/llama-4-maverick-17b-128e-instruct            39            22   \n",
       "meta-llama/llama-4-scout-17b-16e-instruct                42            19   \n",
       "openai/gpt-4o                                            43             5   \n",
       "openai/gpt-4o-mini                                       41             4   \n",
       "openai/o3-mini                                           44            31   \n",
       "qwen-qwq-32b                                             33            24   \n",
       "\n",
       "                                               numer_correct  \n",
       "model                                                         \n",
       "deepseek-r1-distill-llama-70b                             30  \n",
       "gemini/gemini-2.0-flash                                   32  \n",
       "gemini/gemini-2.0-flash-lite                              14  \n",
       "gemini/gemini-2.5-flash-preview-04-17                     34  \n",
       "gemini/gemini-2.5-pro-preview-03-25                       35  \n",
       "gemini/gemma-3-27b-it                                     13  \n",
       "meta-llama/llama-4-maverick-17b-128e-instruct             24  \n",
       "meta-llama/llama-4-scout-17b-16e-instruct                 21  \n",
       "openai/gpt-4o                                              6  \n",
       "openai/gpt-4o-mini                                         4  \n",
       "openai/o3-mini                                            34  \n",
       "qwen-qwq-32b                                              24  "
      ]
     },
     "execution_count": 46,
     "metadata": {},
     "output_type": "execute_result"
    }
   ],
   "source": [
    "df_for_stats.groupby('model').agg(\n",
    "    n_valid_resp=('q_id_dist', 'nunique'),\n",
    "    symb_correct=('symb_correct', 'sum'),\n",
    "    numer_correct=('numer_correct', 'sum')\n",
    ")\n"
   ]
  }
 ],
 "metadata": {
  "kernelspec": {
   "display_name": "Python 3 (ipykernel)",
   "language": "python",
   "name": "python3"
  },
  "language_info": {
   "codemirror_mode": {
    "name": "ipython",
    "version": 3
   },
   "file_extension": ".py",
   "mimetype": "text/x-python",
   "name": "python",
   "nbconvert_exporter": "python",
   "pygments_lexer": "ipython3",
   "version": "3.12.4"
  }
 },
 "nbformat": 4,
 "nbformat_minor": 5
}
