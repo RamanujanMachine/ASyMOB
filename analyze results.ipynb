{
 "cells": [
  {
   "cell_type": "code",
   "execution_count": 1,
   "id": "0f675bc6-357f-4d0a-a481-f2c80f775afe",
   "metadata": {},
   "outputs": [],
   "source": [
    "import pandas as pd"
   ]
  },
  {
   "cell_type": "code",
   "execution_count": 2,
   "id": "f8c120db-1b42-49d7-bd76-7a5a947f93b0",
   "metadata": {},
   "outputs": [],
   "source": [
    "df = pd.read_excel('180_partial.xlsx')"
   ]
  },
  {
   "cell_type": "code",
   "execution_count": 4,
   "id": "3999e9c3-2ed3-4d42-9169-8371860b631c",
   "metadata": {},
   "outputs": [],
   "source": [
    "questions = pd.read_json('questions-183.json')"
   ]
  },
  {
   "cell_type": "code",
   "execution_count": 5,
   "id": "78d6df0c-e723-4aa4-bbbb-ee0db15c6b03",
   "metadata": {},
   "outputs": [
    {
     "data": {
      "text/plain": [
       "(Index(['Unnamed: 0.1', 'Unnamed: 0', 'full_answer', 'final_answer_latex',\n",
       "        'question_id', 'model', 'true_answer', 'question_text',\n",
       "        'code_execution', 'model_answer', 'model_answer_type',\n",
       "        'symbolic_comparison', 'numeric_comparison'],\n",
       "       dtype='object'),\n",
       " Index(['Index', 'Challenge', 'Answer in Latex', 'Answer in Sympy', 'Variation',\n",
       "        'Source'],\n",
       "       dtype='object'))"
      ]
     },
     "execution_count": 5,
     "metadata": {},
     "output_type": "execute_result"
    }
   ],
   "source": [
    "df.columns, questions.columns"
   ]
  },
  {
   "cell_type": "code",
   "execution_count": 12,
   "id": "3b1f400f-292a-4d8c-86c7-d66fde379c2b",
   "metadata": {},
   "outputs": [
    {
     "data": {
      "text/plain": [
       "Index(['Unnamed: 0.1', 'Unnamed: 0', 'full_answer', 'final_answer_latex',\n",
       "       'question_id', 'model', 'true_answer', 'question_text',\n",
       "       'code_execution', 'model_answer', 'model_answer_type',\n",
       "       'symbolic_comparison', 'numeric_comparison', 'Index', 'Challenge',\n",
       "       'Answer in Latex', 'Answer in Sympy', 'Variation', 'Source'],\n",
       "      dtype='object')"
      ]
     },
     "execution_count": 12,
     "metadata": {},
     "output_type": "execute_result"
    }
   ],
   "source": [
    "merged.columns"
   ]
  },
  {
   "cell_type": "code",
   "execution_count": 24,
   "id": "f960af31-d0bb-42f2-a8ce-ed1c0cbd5018",
   "metadata": {},
   "outputs": [],
   "source": [
    "merged = pd.merge(\n",
    "    left=df,\n",
    "    right=questions,\n",
    "    left_on='question_id',\n",
    "    right_on='Index'\n",
    ")\n",
    "merged = merged[[\n",
    "    'question_id', 'model', 'code_execution', 'final_answer_latex', 'model_answer', \n",
    "    'true_answer','model_answer_type', 'symbolic_comparison', 'numeric_comparison',\n",
    "    'Variation', 'Source']]\n",
    "merged.Variation = merged.Variation.apply(str.strip)"
   ]
  },
  {
   "cell_type": "code",
   "execution_count": 26,
   "id": "0888693d-bf88-40b4-97c2-0e39f3979463",
   "metadata": {},
   "outputs": [],
   "source": [
    "summary = merged.groupby(['model', 'code_execution', 'Variation']).agg(\n",
    "    n_valid=('question_id', 'count'),\n",
    "    n_symbolic_correct=('symbolic_comparison', 'sum'),\n",
    "    n_numeric_correct=('numeric_comparison', 'sum'),\n",
    ").reset_index()\n",
    "summary.to_excel('summary.xlsx')"
   ]
  },
  {
   "cell_type": "code",
   "execution_count": 22,
   "id": "5769e3bf-026d-4a86-9fb0-77e635490335",
   "metadata": {},
   "outputs": [
    {
     "data": {
      "text/plain": [
       "'Symbolic '"
      ]
     },
     "execution_count": 22,
     "metadata": {},
     "output_type": "execute_result"
    }
   ],
   "source": [
    "summary.loc[3].Variation "
   ]
  },
  {
   "cell_type": "code",
   "execution_count": null,
   "id": "a8540e47-7e68-4995-afa7-7021bfd1c7f7",
   "metadata": {},
   "outputs": [],
   "source": []
  }
 ],
 "metadata": {
  "kernelspec": {
   "display_name": "Python 3 (ipykernel)",
   "language": "python",
   "name": "python3"
  },
  "language_info": {
   "codemirror_mode": {
    "name": "ipython",
    "version": 3
   },
   "file_extension": ".py",
   "mimetype": "text/x-python",
   "name": "python",
   "nbconvert_exporter": "python",
   "pygments_lexer": "ipython3",
   "version": "3.12.4"
  }
 },
 "nbformat": 4,
 "nbformat_minor": 5
}
